{
 "cells": [
  {
   "cell_type": "code",
   "execution_count": 13,
   "id": "fecfeb41-94fe-4a76-b8b9-e002989698b3",
   "metadata": {},
   "outputs": [
    {
     "name": "stdout",
     "output_type": "stream",
     "text": [
      "Requirement already satisfied: pandas_datareader in d:\\anacondaa\\lib\\site-packages (0.10.0)\n",
      "Requirement already satisfied: lxml in d:\\anacondaa\\lib\\site-packages (from pandas_datareader) (5.2.1)\n",
      "Requirement already satisfied: pandas>=0.23 in d:\\anacondaa\\lib\\site-packages (from pandas_datareader) (2.2.2)\n",
      "Requirement already satisfied: requests>=2.19.0 in d:\\anacondaa\\lib\\site-packages (from pandas_datareader) (2.32.3)\n",
      "Requirement already satisfied: numpy>=1.26.0 in d:\\anacondaa\\lib\\site-packages (from pandas>=0.23->pandas_datareader) (1.26.4)\n",
      "Requirement already satisfied: python-dateutil>=2.8.2 in d:\\anacondaa\\lib\\site-packages (from pandas>=0.23->pandas_datareader) (2.9.0.post0)\n",
      "Requirement already satisfied: pytz>=2020.1 in d:\\anacondaa\\lib\\site-packages (from pandas>=0.23->pandas_datareader) (2024.1)\n",
      "Requirement already satisfied: tzdata>=2022.7 in d:\\anacondaa\\lib\\site-packages (from pandas>=0.23->pandas_datareader) (2023.3)\n",
      "Requirement already satisfied: charset-normalizer<4,>=2 in d:\\anacondaa\\lib\\site-packages (from requests>=2.19.0->pandas_datareader) (3.3.2)\n",
      "Requirement already satisfied: idna<4,>=2.5 in d:\\anacondaa\\lib\\site-packages (from requests>=2.19.0->pandas_datareader) (3.7)\n",
      "Requirement already satisfied: urllib3<3,>=1.21.1 in d:\\anacondaa\\lib\\site-packages (from requests>=2.19.0->pandas_datareader) (2.2.3)\n",
      "Requirement already satisfied: certifi>=2017.4.17 in d:\\anacondaa\\lib\\site-packages (from requests>=2.19.0->pandas_datareader) (2025.1.31)\n",
      "Requirement already satisfied: six>=1.5 in d:\\anacondaa\\lib\\site-packages (from python-dateutil>=2.8.2->pandas>=0.23->pandas_datareader) (1.16.0)\n"
     ]
    }
   ],
   "source": [
    "!pip install --quiet yfinance\n",
    "!pip install pandas_datareader"
   ]
  },
  {
   "cell_type": "code",
   "execution_count": 14,
   "id": "a4edbf34-b815-4f19-a9b8-ef343340bde0",
   "metadata": {},
   "outputs": [],
   "source": [
    "import pandas as pd\n",
    "import numpy as np\n",
    "import matplotlib.pyplot as plt\n",
    "import seaborn as sns\n",
    "from pandas_datareader import data as pdr\n",
    "import datetime as dt\n",
    "from scipy import stats\n",
    "import yfinance as yf  ### this is for fetching our data\n",
    "import time\n",
    "\n",
    "sns.set_style('whitegrid')  ## provide grid structure\n",
    "%matplotlib inline"
   ]
  },
  {
   "cell_type": "code",
   "execution_count": 15,
   "id": "48c019ab-1bcc-41dd-9a9f-122a96413942",
   "metadata": {},
   "outputs": [],
   "source": [
    "companie = ['AAPL','MSFT','GOOGL','AMZN']\n",
    "weights = np.array([0.25,0.25,0.25,0.25])\n",
    "\n",
    "start = dt.datetime(2020,1,1)\n",
    "end = dt.datetime.today()\n",
    "\n",
    "price = pd.DataFrame(index=pd.date_range(start,end))\n",
    "\n"
   ]
  },
  {
   "cell_type": "code",
   "execution_count": 38,
   "id": "b5a31a92-47be-4e9a-ad19-2014165e1ab6",
   "metadata": {},
   "outputs": [
    {
     "name": "stdout",
     "output_type": "stream",
     "text": [
      "fetching['AAPL', 'MSFT', 'GOOGL', 'AMZN']X yfinance (module 'yfinance' has no attribute 'Companies'); falling back to Stooq\n",
      "fetching['AAPL', 'MSFT', 'GOOGL', 'AMZN']X yfinance (module 'yfinance' has no attribute 'Companies'); falling back to Stooq\n",
      "fetching['AAPL', 'MSFT', 'GOOGL', 'AMZN']X yfinance (module 'yfinance' has no attribute 'Companies'); falling back to Stooq\n",
      "fetching['AAPL', 'MSFT', 'GOOGL', 'AMZN']X yfinance (module 'yfinance' has no attribute 'Companies'); falling back to Stooq\n"
     ]
    }
   ],
   "source": [
    "for t in companie:\n",
    "  print(f\"fetching{companie}\",end = \"\")\n",
    "  try:\n",
    "    ## featching the data\n",
    "    df = yf.Companies(companie).history(start=start.strftime(\"%Y-%m-%d\"),end = end.strftime(\"%Y-%m-%d\"),auto_adjust=True,)\n",
    "    series = df['Close']\n",
    "    print(\"Y finance \",end=\"\")\n",
    "  except Exception as e:\n",
    "    print(f\"X yfinance ({e}); falling back to Stooq\")\n",
    "    df2 = pdr.DataReader(companie,'stooq',start,end)\n",
    "    df2 = df2.sort_index()\n",
    "    series= df2['Close']\n",
    "\n",
    "  price[companie] = series\n",
    "  time.sleep(1)"
   ]
  },
  {
   "cell_type": "code",
   "execution_count": 39,
   "id": "25a8442e-3042-4bc3-8749-226bcf7dc129",
   "metadata": {},
   "outputs": [
    {
     "name": "stdout",
     "output_type": "stream",
     "text": [
      "               AAPL     MSFT    GOOGL     AMZN\n",
      "2020-01-02  72.7161  153.613  68.1868  94.9005\n",
      "2020-01-03  72.0115  151.726  67.8302  93.7485\n",
      "2020-01-06  72.5811  152.118  69.6381  95.1440\n",
      "2020-01-07  72.2432  150.710  69.5035  95.3430\n",
      "2020-01-08  73.4042  153.142  69.9983  94.5985\n"
     ]
    }
   ],
   "source": [
    "price = price.dropna(how='all').ffill().bfill()\n",
    "print(price.head())"
   ]
  },
  {
   "cell_type": "code",
   "execution_count": null,
   "id": "567a47c1-c2b0-4514-8292-db2a71fd36f7",
   "metadata": {},
   "outputs": [],
   "source": []
  },
  {
   "cell_type": "code",
   "execution_count": 41,
   "id": "066910b9-71d6-4489-bfa2-0806443fadf5",
   "metadata": {},
   "outputs": [
    {
     "data": {
      "text/html": [
       "<div>\n",
       "<style scoped>\n",
       "    .dataframe tbody tr th:only-of-type {\n",
       "        vertical-align: middle;\n",
       "    }\n",
       "\n",
       "    .dataframe tbody tr th {\n",
       "        vertical-align: top;\n",
       "    }\n",
       "\n",
       "    .dataframe thead th {\n",
       "        text-align: right;\n",
       "    }\n",
       "</style>\n",
       "<table border=\"1\" class=\"dataframe\">\n",
       "  <thead>\n",
       "    <tr style=\"text-align: right;\">\n",
       "      <th></th>\n",
       "      <th>AAPL</th>\n",
       "      <th>MSFT</th>\n",
       "      <th>GOOGL</th>\n",
       "      <th>AMZN</th>\n",
       "    </tr>\n",
       "  </thead>\n",
       "  <tbody>\n",
       "    <tr>\n",
       "      <th>2020-01-03</th>\n",
       "      <td>-0.009737</td>\n",
       "      <td>-0.012360</td>\n",
       "      <td>-0.005243</td>\n",
       "      <td>-0.012213</td>\n",
       "    </tr>\n",
       "    <tr>\n",
       "      <th>2020-01-06</th>\n",
       "      <td>0.007879</td>\n",
       "      <td>0.002580</td>\n",
       "      <td>0.026304</td>\n",
       "      <td>0.014776</td>\n",
       "    </tr>\n",
       "    <tr>\n",
       "      <th>2020-01-07</th>\n",
       "      <td>-0.004666</td>\n",
       "      <td>-0.009299</td>\n",
       "      <td>-0.001935</td>\n",
       "      <td>0.002089</td>\n",
       "    </tr>\n",
       "    <tr>\n",
       "      <th>2020-01-08</th>\n",
       "      <td>0.015943</td>\n",
       "      <td>0.016008</td>\n",
       "      <td>0.007094</td>\n",
       "      <td>-0.007839</td>\n",
       "    </tr>\n",
       "    <tr>\n",
       "      <th>2020-01-09</th>\n",
       "      <td>0.021054</td>\n",
       "      <td>0.012240</td>\n",
       "      <td>0.010441</td>\n",
       "      <td>0.004788</td>\n",
       "    </tr>\n",
       "  </tbody>\n",
       "</table>\n",
       "</div>"
      ],
      "text/plain": [
       "                AAPL      MSFT     GOOGL      AMZN\n",
       "2020-01-03 -0.009737 -0.012360 -0.005243 -0.012213\n",
       "2020-01-06  0.007879  0.002580  0.026304  0.014776\n",
       "2020-01-07 -0.004666 -0.009299 -0.001935  0.002089\n",
       "2020-01-08  0.015943  0.016008  0.007094 -0.007839\n",
       "2020-01-09  0.021054  0.012240  0.010441  0.004788"
      ]
     },
     "execution_count": 41,
     "metadata": {},
     "output_type": "execute_result"
    }
   ],
   "source": [
    "logR = np.log(price / price.shift(1)).dropna()\n",
    "logR.head()"
   ]
  },
  {
   "cell_type": "code",
   "execution_count": 42,
   "id": "aa716d1a-82f9-42b4-b678-6e35eac03a16",
   "metadata": {},
   "outputs": [
    {
     "data": {
      "image/png": "[encoded data removed]",
      "text/plain": [
       "<Figure size 640x480 with 1 Axes>"
      ]
     },
     "metadata": {},
     "output_type": "display_data"
    }
   ],
   "source": [
    "logR['AAPL'].hist(bins=50, alpha=0.7)\n",
    "plt.title('AAPL Daily Log-Return Distribution')\n",
    "plt.show()"
   ]
  },
  {
   "cell_type": "code",
   "execution_count": 47,
   "id": "730137e6-ee0e-470e-bfdb-f33dd65b67f3",
   "metadata": {},
   "outputs": [
    {
     "data": {
      "text/html": [
       "<div>\n",
       "<style scoped>\n",
       "    .dataframe tbody tr th:only-of-type {\n",
       "        vertical-align: middle;\n",
       "    }\n",
       "\n",
       "    .dataframe tbody tr th {\n",
       "        vertical-align: top;\n",
       "    }\n",
       "\n",
       "    .dataframe thead th {\n",
       "        text-align: right;\n",
       "    }\n",
       "</style>\n",
       "<table border=\"1\" class=\"dataframe\">\n",
       "  <thead>\n",
       "    <tr style=\"text-align: right;\">\n",
       "      <th></th>\n",
       "      <th>Mean</th>\n",
       "      <th>Variance</th>\n",
       "      <th>Skewness</th>\n",
       "      <th>Kurtosis</th>\n",
       "    </tr>\n",
       "  </thead>\n",
       "  <tbody>\n",
       "    <tr>\n",
       "      <th>AAPL</th>\n",
       "      <td>0.000755</td>\n",
       "      <td>0.000424</td>\n",
       "      <td>0.018513</td>\n",
       "      <td>6.226409</td>\n",
       "    </tr>\n",
       "    <tr>\n",
       "      <th>MSFT</th>\n",
       "      <td>0.000811</td>\n",
       "      <td>0.000371</td>\n",
       "      <td>-0.165128</td>\n",
       "      <td>7.456874</td>\n",
       "    </tr>\n",
       "    <tr>\n",
       "      <th>GOOGL</th>\n",
       "      <td>0.000655</td>\n",
       "      <td>0.000430</td>\n",
       "      <td>-0.223692</td>\n",
       "      <td>3.638210</td>\n",
       "    </tr>\n",
       "    <tr>\n",
       "      <th>AMZN</th>\n",
       "      <td>0.000568</td>\n",
       "      <td>0.000522</td>\n",
       "      <td>-0.069621</td>\n",
       "      <td>4.180882</td>\n",
       "    </tr>\n",
       "  </tbody>\n",
       "</table>\n",
       "</div>"
      ],
      "text/plain": [
       "           Mean  Variance  Skewness  Kurtosis\n",
       "AAPL   0.000755  0.000424  0.018513  6.226409\n",
       "MSFT   0.000811  0.000371 -0.165128  7.456874\n",
       "GOOGL  0.000655  0.000430 -0.223692  3.638210\n",
       "AMZN   0.000568  0.000522 -0.069621  4.180882"
      ]
     },
     "execution_count": 47,
     "metadata": {},
     "output_type": "execute_result"
    }
   ],
   "source": [
    "summary = pd.DataFrame({\n",
    "    'Mean':    logR.mean(),\n",
    "    'Variance':logR.var(),\n",
    "    'Skewness':logR.skew(),\n",
    "    'Kurtosis':logR.kurtosis()\n",
    "})\n",
    "summary\n"
   ]
  },
  {
   "cell_type": "code",
   "execution_count": 49,
   "id": "97caa83a-2044-4d5c-bf6c-76c64ae9550f",
   "metadata": {},
   "outputs": [
    {
     "name": "stdout",
     "output_type": "stream",
     "text": [
      "Normal fit:\n",
      "  μ = 0.00070, 95% CI (0.00014229187543832688, 0.001252144975145959)\n",
      "  σ = 0.02089, 95% CI (0.020505253822907493, 0.02129036800048174)\n"
     ]
    }
   ],
   "source": [
    "mu_norm, sigma_norm = logR.stack().mean(), logR.stack().std(ddof=1)\n",
    "# 95% CI for mean under Normal: μ ± z*·σ/√N\n",
    "N = logR.size\n",
    "z95 = stats.norm.ppf(0.975)\n",
    "ci_mu_norm = (mu_norm - z95*sigma_norm/np.sqrt(N),\n",
    "              mu_norm + z95*sigma_norm/np.sqrt(N))\n",
    "\n",
    "\n",
    "# 95% CI for σ via Chi-square:\n",
    "df = N-1\n",
    "chi2_low, chi2_high = stats.chi2.ppf([0.025,0.975], df)\n",
    "ci_sigma_norm = (sigma_norm*np.sqrt(df/chi2_high),\n",
    "                 sigma_norm*np.sqrt(df/chi2_low))\n",
    "\n",
    "print(\"Normal fit:\")\n",
    "print(f\"  μ = {mu_norm:.5f}, 95% CI {ci_mu_norm}\") ## confidence interval\n",
    "print(f\"  σ = {sigma_norm:.5f}, 95% CI {ci_sigma_norm}\")"
   ]
  },
  {
   "cell_type": "code",
   "execution_count": 51,
   "id": "d5c0e81e-40a6-48bc-b2f9-cc45cec358d3",
   "metadata": {},
   "outputs": [],
   "source": [
    "returns_flat = logR.stack().values\n",
    "df_t, mu_t, sigma_t = stats.t.fit(returns_flat)"
   ]
  },
  {
   "cell_type": "code",
   "execution_count": 53,
   "id": "78ff3add-03db-47f6-9a7d-358217bab6d9",
   "metadata": {},
   "outputs": [
    {
     "name": "stdout",
     "output_type": "stream",
     "text": [
      "0.001042908648841414\n"
     ]
    }
   ],
   "source": [
    "print(mu_t)"
   ]
  },
  {
   "cell_type": "code",
   "execution_count": 55,
   "id": "4028d82f-ac7a-4f40-802e-bcb94c1cd67a",
   "metadata": {},
   "outputs": [],
   "source": [
    "B = 1000\n",
    "estimates = np.array([stats.t.fit(np.random.choice(returns_flat, size=N, replace=True))\n",
    "                      for _ in range(B)])\n",
    "ci_mu_t    = np.percentile(estimates[:,1], [2.5,97.5])\n",
    "ci_sigma_t = np.percentile(estimates[:,2], [2.5,97.5])"
   ]
  },
  {
   "cell_type": "code",
   "execution_count": 56,
   "id": "846900c0-3ab3-443e-94e7-7581ec07d58c",
   "metadata": {},
   "outputs": [
    {
     "name": "stdout",
     "output_type": "stream",
     "text": [
      "\n",
      "Student’s t fit:\n",
      "  df = 3.7, μ = 0.00104,  σ = 0.01444\n",
      "  95% CI for μ (bootstrap): [0.00055054 0.0014863 ]\n",
      "  95% CI for σ (bootstrap): [0.01391873 0.01492712]\n"
     ]
    }
   ],
   "source": [
    "print(\"\\nStudent’s t fit:\")\n",
    "print(f\"  df = {df_t:.1f}, μ = {mu_t:.5f},  σ = {sigma_t:.5f}\")\n",
    "print(f\"  95% CI for μ (bootstrap): {ci_mu_t}\")\n",
    "print(f\"  95% CI for σ (bootstrap): {ci_sigma_t}\")"
   ]
  },
  {
   "cell_type": "markdown",
   "id": "6b23461a-856e-4ff6-93a7-a4d39a9c07f5",
   "metadata": {},
   "source": [
    "#### VAR With Normal dist"
   ]
  },
  {
   "cell_type": "code",
   "execution_count": 58,
   "id": "c9ee6729-d8c9-4787-91ee-682c1d6d5f14",
   "metadata": {},
   "outputs": [],
   "source": [
    "portR= logR.dot(weights)"
   ]
  },
  {
   "cell_type": "code",
   "execution_count": 59,
   "id": "98387de9-fca3-4b6a-8a84-101181432291",
   "metadata": {},
   "outputs": [
    {
     "data": {
      "text/plain": [
       "2020-01-03   -0.009888\n",
       "2020-01-06    0.012885\n",
       "2020-01-07   -0.003453\n",
       "2020-01-08    0.007801\n",
       "2020-01-09    0.012131\n",
       "                ...   \n",
       "2025-05-28   -0.003916\n",
       "2025-05-29    0.000601\n",
       "2025-05-30    0.001022\n",
       "2025-06-02   -0.000056\n",
       "2025-06-03   -0.002912\n",
       "Length: 1361, dtype: float64"
      ]
     },
     "execution_count": 59,
     "metadata": {},
     "output_type": "execute_result"
    }
   ],
   "source": [
    "portR"
   ]
  },
  {
   "cell_type": "code",
   "execution_count": 60,
   "id": "31f2214e-286e-4d0c-8f85-d371bba9e3e2",
   "metadata": {},
   "outputs": [],
   "source": [
    "μ_p = portR.mean()\n",
    "σ_p = portR.std(ddof=1)"
   ]
  },
  {
   "cell_type": "code",
   "execution_count": 61,
   "id": "936d8fde-07fc-4ab7-b49a-d3bf694795e3",
   "metadata": {},
   "outputs": [],
   "source": [
    "z05= stats.norm.ppf(0.05)"
   ]
  },
  {
   "cell_type": "code",
   "execution_count": 62,
   "id": "27928c70-46d9-4034-9ae0-ef8563640db1",
   "metadata": {},
   "outputs": [],
   "source": [
    "VAR_norm= -(μ_p + σ_p *z05)"
   ]
  },
  {
   "cell_type": "code",
   "execution_count": 63,
   "id": "03ef3484-f5f8-4cb5-b3ed-c895ea8f09b1",
   "metadata": {},
   "outputs": [
    {
     "name": "stdout",
     "output_type": "stream",
     "text": [
      "0.029131521209719874\n"
     ]
    }
   ],
   "source": [
    "print(VAR_norm)"
   ]
  },
  {
   "cell_type": "markdown",
   "id": "20175a12-87c6-46ab-a02e-61cbb06cf356",
   "metadata": {},
   "source": [
    "## Using Student-t distribution"
   ]
  },
  {
   "cell_type": "code",
   "execution_count": 65,
   "id": "b7d34f04-096e-43c0-9ffa-e8ff92c31be1",
   "metadata": {},
   "outputs": [],
   "source": [
    "t05 = stats.t.ppf(0.05,df_t)"
   ]
  },
  {
   "cell_type": "code",
   "execution_count": 66,
   "id": "a965edd6-efe9-4668-8946-6b75c0ba71f1",
   "metadata": {},
   "outputs": [],
   "source": [
    "VaR_t = -(mu_t + sigma_t *t05) *1"
   ]
  },
  {
   "cell_type": "code",
   "execution_count": 67,
   "id": "2eeb2a9b-d7bb-4c3d-99e8-4351de09ccae",
   "metadata": {},
   "outputs": [
    {
     "data": {
      "text/plain": [
       "0.0306075294746394"
      ]
     },
     "execution_count": 67,
     "metadata": {},
     "output_type": "execute_result"
    }
   ],
   "source": [
    "VaR_t\n"
   ]
  },
  {
   "cell_type": "markdown",
   "id": "36d016ac-aaf2-4940-9a49-cebbbff3074a",
   "metadata": {},
   "source": [
    "## HISTORICAL METHOD"
   ]
  },
  {
   "cell_type": "code",
   "execution_count": 69,
   "id": "f28d9308-c60c-4449-bbf1-6758f4b18cd7",
   "metadata": {},
   "outputs": [],
   "source": [
    "hist_var = -np.percentile(portR,5)"
   ]
  },
  {
   "cell_type": "code",
   "execution_count": 70,
   "id": "d7cb96c0-ae8c-4337-81dc-b3b0c7a7b70f",
   "metadata": {},
   "outputs": [
    {
     "name": "stdout",
     "output_type": "stream",
     "text": [
      "1-Day 95% VaR:\n",
      "  Parametric (Normal):       0.02913\n",
      "  Parametric (Student’s t):  0.03061\n",
      "  Historical (5th percentile): 0.02892\n"
     ]
    }
   ],
   "source": [
    "print(\"1-Day 95% VaR:\")\n",
    "print(f\"  Parametric (Normal):       {VAR_norm:.5f}\")\n",
    "print(f\"  Parametric (Student’s t):  {VaR_t:.5f}\")\n",
    "print(f\"  Historical (5th percentile): {hist_var:.5f}\")"
   ]
  },
  {
   "cell_type": "markdown",
   "id": "dffbd138-5ce5-4618-a3d9-748be1fe7541",
   "metadata": {},
   "source": [
    "#### Hypothesis Test"
   ]
  },
  {
   "cell_type": "code",
   "execution_count": 84,
   "id": "8ccafcb3-ff61-42f2-9b3c-a20fb62d9f90",
   "metadata": {},
   "outputs": [],
   "source": [
    "t_stat, p_val = stats.ttest_1samp(portR, 0.0)"
   ]
  },
  {
   "cell_type": "code",
   "execution_count": 86,
   "id": "62738f5c-baaa-47bc-a835-725a62206bf5",
   "metadata": {},
   "outputs": [
    {
     "name": "stdout",
     "output_type": "stream",
     "text": [
      "One-sample t-test on portfolio daily returns:\n",
      "  t-statistic = 1.418,  p-value = 0.156\n"
     ]
    }
   ],
   "source": [
    "print(\"One-sample t-test on portfolio daily returns:\")\n",
    "print(f\"  t-statistic = {t_stat:.3f},  p-value = {p_val:.3f}\")"
   ]
  },
  {
   "cell_type": "code",
   "execution_count": 88,
   "id": "34235b01-49fd-4d6a-b036-c8ff85b91d08",
   "metadata": {},
   "outputs": [
    {
     "name": "stdout",
     "output_type": "stream",
     "text": [
      "  → Fail to reject H0: no evidence mean return ≠ 0.\n"
     ]
    }
   ],
   "source": [
    "if p_val < 0.05:\n",
    "    print(\"  → Reject H0: mean return is significantly different from zero.\")\n",
    "else:\n",
    "    print(\"  → Fail to reject H0: no evidence mean return ≠ 0.\")"
   ]
  },
  {
   "cell_type": "markdown",
   "id": "ad44a91d-6ed5-4a57-9597-9f7c13093bab",
   "metadata": {},
   "source": [
    "Corelation matrix"
   ]
  },
  {
   "cell_type": "code",
   "execution_count": 93,
   "id": "4d5a10d2-a6bd-4581-a357-0b791dbae172",
   "metadata": {},
   "outputs": [
    {
     "data": {
      "image/png": "[encoded data removed]",
      "text/plain": [
       "<Figure size 600x500 with 2 Axes>"
      ]
     },
     "metadata": {},
     "output_type": "display_data"
    },
    {
     "name": "stdout",
     "output_type": "stream",
     "text": [
      "Weighted avg σ: 0.0209\n",
      "Actual portfolio σ: 0.0181\n",
      "Diversification benefit: 0.0027\n"
     ]
    }
   ],
   "source": [
    "import seaborn as sns\n",
    "\n",
    "# a) Correlation heatmap\n",
    "corr = logR.corr()\n",
    "plt.figure(figsize=(6,5))\n",
    "sns.heatmap(corr, annot=True, cmap='coolwarm', vmin=-1, vmax=1)\n",
    "plt.title('Asset Return Correlations')\n",
    "plt.show()\n",
    "\n",
    "\n",
    "# b) Diversification benefit\n",
    "σ_i = logR.std()                         # individual volatilities\n",
    "σ_weighted = np.dot(weights, σ_i)        # naive weighted avg\n",
    "σ_portfolio = σ_p                        # from earlier\n",
    "print(f\"Weighted avg σ: {σ_weighted:.4f}\")\n",
    "print(f\"Actual portfolio σ: {σ_portfolio:.4f}\")\n",
    "print(f\"Diversification benefit: {σ_weighted-σ_portfolio:.4f}\")"
   ]
  },
  {
   "cell_type": "markdown",
   "id": "1d920dfb-2792-4be2-8a8f-70639d4af451",
   "metadata": {},
   "source": [
    "#### MDD/ DD"
   ]
  },
  {
   "cell_type": "code",
   "execution_count": 98,
   "id": "0cdcb9ca-7b25-45a8-9430-efd6e928487e",
   "metadata": {},
   "outputs": [],
   "source": [
    "cum_ret = (price / price.iloc[0]).prod(axis=1)  # cumulative portfolio growth?\n",
    "# Actually for portfolio: cum_port = (portR + 1).cumprod()\n",
    "cum_port = (portR + 1).cumprod()"
   ]
  },
  {
   "cell_type": "code",
   "execution_count": 100,
   "id": "f4ea3059-3a42-4a16-b777-04b39d00cd75",
   "metadata": {},
   "outputs": [
    {
     "data": {
      "text/plain": [
       "2020-01-03    0.990112\n",
       "2020-01-06    1.002869\n",
       "2020-01-07    0.999406\n",
       "2020-01-08    1.007203\n",
       "2020-01-09    1.019421\n",
       "                ...   \n",
       "2025-05-28    2.066458\n",
       "2025-05-29    2.067701\n",
       "2025-05-30    2.069814\n",
       "2025-06-02    2.069698\n",
       "2025-06-03    2.063671\n",
       "Length: 1361, dtype: float64"
      ]
     },
     "execution_count": 100,
     "metadata": {},
     "output_type": "execute_result"
    }
   ],
   "source": [
    "cum_port"
   ]
  },
  {
   "cell_type": "code",
   "execution_count": 102,
   "id": "ed40b72c-9ffc-492e-a25c-e09af41071ae",
   "metadata": {},
   "outputs": [],
   "source": [
    "rolling_max = cum_port.cummax()"
   ]
  },
  {
   "cell_type": "code",
   "execution_count": 104,
   "id": "80721d0d-e5dc-47c2-a14c-3e5686e69b6e",
   "metadata": {},
   "outputs": [],
   "source": [
    "rolling_max\n",
    "drawdown   = (cum_port - rolling_max) / rolling_max"
   ]
  },
  {
   "cell_type": "code",
   "execution_count": 106,
   "id": "c211f228-4189-4201-8129-e7b680dcfcb6",
   "metadata": {},
   "outputs": [],
   "source": [
    "max_dd = drawdown.min()\n",
    "end_date = drawdown.idxmin()\n",
    "start_date = cum_port[:end_date].idxmax()"
   ]
  },
  {
   "cell_type": "code",
   "execution_count": 108,
   "id": "75a0c3d4-e1d8-4c14-8976-5121ed8f4a11",
   "metadata": {
    "jupyter": {
     "source_hidden": true
    }
   },
   "outputs": [
    {
     "name": "stdout",
     "output_type": "stream",
     "text": [
      "Max Drawdown: -43.98%\n",
      "From 2021-12-10 to 2023-01-05\n"
     ]
    }
   ],
   "source": [
    "print(f\"Max Drawdown: {max_dd:.2%}\")\n",
    "print(f\"From {start_date.date()} to {end_date.date()}\")"
   ]
  },
  {
   "cell_type": "code",
   "execution_count": 110,
   "id": "8479059b-a8c2-4c90-a961-b3e131b1a719",
   "metadata": {},
   "outputs": [
    {
     "data": {
      "image/png": "[encoded data removed]",
      "text/plain": [
       "<Figure size 1000x400 with 1 Axes>"
      ]
     },
     "metadata": {},
     "output_type": "display_data"
    }
   ],
   "source": [
    "plt.figure(figsize=(10,4))\n",
    "plt.plot(cum_port, label='Cumulative')\n",
    "plt.fill_between(drawdown.index, cum_port, rolling_max,\n",
    "                 where=drawdown<0, color='red', alpha=0.3)\n",
    "plt.title('Portfolio Cumulative Return & Drawdown')\n",
    "plt.legend()\n",
    "plt.show()"
   ]
  },
  {
   "cell_type": "markdown",
   "id": "a12378bc-af46-42c8-89dc-2d0ad1a1238c",
   "metadata": {},
   "source": [
    "### Expected shortfall / CVAR"
   ]
  },
  {
   "cell_type": "code",
   "execution_count": 113,
   "id": "292d1c80-1555-4fd1-be6d-6441775d4644",
   "metadata": {},
   "outputs": [
    {
     "name": "stdout",
     "output_type": "stream",
     "text": [
      "Historical ES (95%): -0.04211\n",
      "Parametric Normal ES (95%): -0.00304\n"
     ]
    }
   ],
   "source": [
    "alpha = 0.5 ##  ES at beyond 95%\n",
    "# historical\n",
    "ES_historical = portR[portR <= np.percentile(portR, 5)].mean()\n",
    "\n",
    "# normal method\n",
    "ES_norm = (μ_p - σ_p * stats.norm.pdf(z05) / alpha)\n",
    "\n",
    "print(f\"Historical ES (95%): {ES_historical:.5f}\")\n",
    "print(f\"Parametric Normal ES (95%): {ES_norm:.5f}\")"
   ]
  },
  {
   "cell_type": "markdown",
   "id": "3709515e-fdef-44d2-98c4-adb050227660",
   "metadata": {},
   "source": [
    "### \"VAR Backtesting\""
   ]
  },
  {
   "cell_type": "code",
   "execution_count": 116,
   "id": "20a64163-8323-4823-94f6-598ff98ec51d",
   "metadata": {},
   "outputs": [
    {
     "name": "stdout",
     "output_type": "stream",
     "text": [
      "Exceptions: 67/1361 days (4.92%, expected ~5%)\n"
     ]
    }
   ],
   "source": [
    "var_series= (portR.rolling(1).mean()  + portR.rolling(1).std()*z05)\n",
    "### i am taking normal dist VAR\n",
    "exc= portR <- VAR_norm\n",
    "num_exc= exc.sum()\n",
    "\n",
    "total =  len(portR)\n",
    "\n",
    "\n",
    "print(f\"Exceptions: {num_exc}/{total} days ({num_exc/total:.2%}, expected ~5%)\")"
   ]
  },
  {
   "cell_type": "code",
   "execution_count": 118,
   "id": "eb08f467-a16f-4a27-a8bc-b322ef0a6f9f",
   "metadata": {},
   "outputs": [
    {
     "data": {
      "image/png": "[encoded data removed]",
      "text/plain": [
       "<Figure size 1000x400 with 1 Axes>"
      ]
     },
     "metadata": {},
     "output_type": "display_data"
    }
   ],
   "source": [
    "\n",
    "window = 60\n",
    "roll_var = portR.rolling(window).quantile(0.05).dropna()\n",
    "plt.figure(figsize=(10,4))\n",
    "plt.plot(-roll_var, label='Rolling 95% VaR (hist)')\n",
    "plt.axhline(VAR_norm, color='red', linestyle='--', label='Static VaR')\n",
    "plt.title('Rolling 60-Day Historical VaR (95%)')\n",
    "plt.ylabel('VaR')\n",
    "plt.legend()\n",
    "plt.show()"
   ]
  },
  {
   "cell_type": "code",
   "execution_count": 120,
   "id": "91e61164-8ab1-4d88-b386-3e06eb8c796a",
   "metadata": {},
   "outputs": [
    {
     "name": "stdout",
     "output_type": "stream",
     "text": [
      "JB statistic = 1203.54, p-value = 0.000\n",
      "Reject normality at 5% level.\n"
     ]
    }
   ],
   "source": [
    "jb_stat, jb_p = stats.jarque_bera(portR)\n",
    "print(f\"JB statistic = {jb_stat:.2f}, p-value = {jb_p:.3f}\")\n",
    "if jb_p < 0.05:\n",
    "    print(\"Reject normality at 5% level.\")\n",
    "else:\n",
    "    print(\"Cannot reject normality.\")"
   ]
  },
  {
   "cell_type": "code",
   "execution_count": null,
   "id": "2bf0b31d-f450-474c-874b-5c95e86640ad",
   "metadata": {},
   "outputs": [],
   "source": []
  }
 ],
 "metadata": {
  "kernelspec": {
   "display_name": "Python [conda env:base] *",
   "language": "python",
   "name": "conda-base-py"
  },
  "language_info": {
   "codemirror_mode": {
    "name": "ipython",
    "version": 3
   },
   "file_extension": ".py",
   "mimetype": "text/x-python",
   "name": "python",
   "nbconvert_exporter": "python",
   "pygments_lexer": "ipython3",
   "version": "3.12.7"
  }
 },
 "nbformat": 4,
 "nbformat_minor": 5
}
